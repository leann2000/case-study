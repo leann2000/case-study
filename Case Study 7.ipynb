{
 "cells": [
  {
   "cell_type": "code",
   "execution_count": 1,
   "id": "964568e8",
   "metadata": {},
   "outputs": [],
   "source": [
    "import numpy as np\n",
    "import pandas as pd\n",
    "import matplotlib.pyplot as plt"
   ]
  },
  {
   "cell_type": "code",
   "execution_count": 2,
   "id": "800fa2e2",
   "metadata": {},
   "outputs": [],
   "source": [
    "data = pd.read_excel('iris.xls')"
   ]
  },
  {
   "cell_type": "code",
   "execution_count": 3,
   "id": "19f31b79",
   "metadata": {},
   "outputs": [
    {
     "data": {
      "text/html": [
       "<div>\n",
       "<style scoped>\n",
       "    .dataframe tbody tr th:only-of-type {\n",
       "        vertical-align: middle;\n",
       "    }\n",
       "\n",
       "    .dataframe tbody tr th {\n",
       "        vertical-align: top;\n",
       "    }\n",
       "\n",
       "    .dataframe thead th {\n",
       "        text-align: right;\n",
       "    }\n",
       "</style>\n",
       "<table border=\"1\" class=\"dataframe\">\n",
       "  <thead>\n",
       "    <tr style=\"text-align: right;\">\n",
       "      <th></th>\n",
       "      <th>SL</th>\n",
       "      <th>SW</th>\n",
       "      <th>PL</th>\n",
       "      <th>PW</th>\n",
       "      <th>Classification</th>\n",
       "    </tr>\n",
       "  </thead>\n",
       "  <tbody>\n",
       "    <tr>\n",
       "      <th>0</th>\n",
       "      <td>5.1</td>\n",
       "      <td>3.5</td>\n",
       "      <td>1.4</td>\n",
       "      <td>0.2</td>\n",
       "      <td>Iris-setosa</td>\n",
       "    </tr>\n",
       "    <tr>\n",
       "      <th>1</th>\n",
       "      <td>4.9</td>\n",
       "      <td>3.0</td>\n",
       "      <td>1.4</td>\n",
       "      <td>0.2</td>\n",
       "      <td>Iris-setosa</td>\n",
       "    </tr>\n",
       "    <tr>\n",
       "      <th>2</th>\n",
       "      <td>NaN</td>\n",
       "      <td>3.2</td>\n",
       "      <td>1.3</td>\n",
       "      <td>0.2</td>\n",
       "      <td>Iris-setosa</td>\n",
       "    </tr>\n",
       "    <tr>\n",
       "      <th>3</th>\n",
       "      <td>4.6</td>\n",
       "      <td>3.1</td>\n",
       "      <td>1.5</td>\n",
       "      <td>0.2</td>\n",
       "      <td>Iris-setosa</td>\n",
       "    </tr>\n",
       "    <tr>\n",
       "      <th>4</th>\n",
       "      <td>5.0</td>\n",
       "      <td>3.6</td>\n",
       "      <td>1.4</td>\n",
       "      <td>0.2</td>\n",
       "      <td>Iris-setosa</td>\n",
       "    </tr>\n",
       "  </tbody>\n",
       "</table>\n",
       "</div>"
      ],
      "text/plain": [
       "    SL   SW   PL   PW Classification\n",
       "0  5.1  3.5  1.4  0.2    Iris-setosa\n",
       "1  4.9  3.0  1.4  0.2    Iris-setosa\n",
       "2  NaN  3.2  1.3  0.2    Iris-setosa\n",
       "3  4.6  3.1  1.5  0.2    Iris-setosa\n",
       "4  5.0  3.6  1.4  0.2    Iris-setosa"
      ]
     },
     "execution_count": 3,
     "metadata": {},
     "output_type": "execute_result"
    }
   ],
   "source": [
    "data.head()"
   ]
  },
  {
   "cell_type": "code",
   "execution_count": 4,
   "id": "e42ddf75",
   "metadata": {},
   "outputs": [
    {
     "data": {
      "text/plain": [
       "(150, 5)"
      ]
     },
     "execution_count": 4,
     "metadata": {},
     "output_type": "execute_result"
    }
   ],
   "source": [
    "data.shape"
   ]
  },
  {
   "cell_type": "code",
   "execution_count": 5,
   "id": "2ddff815",
   "metadata": {},
   "outputs": [
    {
     "name": "stdout",
     "output_type": "stream",
     "text": [
      "<class 'pandas.core.frame.DataFrame'>\n",
      "RangeIndex: 150 entries, 0 to 149\n",
      "Data columns (total 5 columns):\n",
      " #   Column          Non-Null Count  Dtype  \n",
      "---  ------          --------------  -----  \n",
      " 0   SL              143 non-null    float64\n",
      " 1   SW              144 non-null    float64\n",
      " 2   PL              144 non-null    float64\n",
      " 3   PW              150 non-null    float64\n",
      " 4   Classification  150 non-null    object \n",
      "dtypes: float64(4), object(1)\n",
      "memory usage: 6.0+ KB\n"
     ]
    }
   ],
   "source": [
    "data.info()"
   ]
  },
  {
   "cell_type": "code",
   "execution_count": 6,
   "id": "9bd74814",
   "metadata": {},
   "outputs": [
    {
     "data": {
      "text/html": [
       "<div>\n",
       "<style scoped>\n",
       "    .dataframe tbody tr th:only-of-type {\n",
       "        vertical-align: middle;\n",
       "    }\n",
       "\n",
       "    .dataframe tbody tr th {\n",
       "        vertical-align: top;\n",
       "    }\n",
       "\n",
       "    .dataframe thead th {\n",
       "        text-align: right;\n",
       "    }\n",
       "</style>\n",
       "<table border=\"1\" class=\"dataframe\">\n",
       "  <thead>\n",
       "    <tr style=\"text-align: right;\">\n",
       "      <th></th>\n",
       "      <th>SL</th>\n",
       "      <th>SW</th>\n",
       "      <th>PL</th>\n",
       "      <th>PW</th>\n",
       "    </tr>\n",
       "  </thead>\n",
       "  <tbody>\n",
       "    <tr>\n",
       "      <th>count</th>\n",
       "      <td>143.000000</td>\n",
       "      <td>144.000000</td>\n",
       "      <td>144.000000</td>\n",
       "      <td>150.000000</td>\n",
       "    </tr>\n",
       "    <tr>\n",
       "      <th>mean</th>\n",
       "      <td>5.855944</td>\n",
       "      <td>3.049306</td>\n",
       "      <td>3.756250</td>\n",
       "      <td>1.198667</td>\n",
       "    </tr>\n",
       "    <tr>\n",
       "      <th>std</th>\n",
       "      <td>0.828168</td>\n",
       "      <td>0.430644</td>\n",
       "      <td>1.761306</td>\n",
       "      <td>0.763161</td>\n",
       "    </tr>\n",
       "    <tr>\n",
       "      <th>min</th>\n",
       "      <td>4.300000</td>\n",
       "      <td>2.000000</td>\n",
       "      <td>1.000000</td>\n",
       "      <td>0.100000</td>\n",
       "    </tr>\n",
       "    <tr>\n",
       "      <th>25%</th>\n",
       "      <td>5.100000</td>\n",
       "      <td>2.800000</td>\n",
       "      <td>1.600000</td>\n",
       "      <td>0.300000</td>\n",
       "    </tr>\n",
       "    <tr>\n",
       "      <th>50%</th>\n",
       "      <td>5.800000</td>\n",
       "      <td>3.000000</td>\n",
       "      <td>4.350000</td>\n",
       "      <td>1.300000</td>\n",
       "    </tr>\n",
       "    <tr>\n",
       "      <th>75%</th>\n",
       "      <td>6.400000</td>\n",
       "      <td>3.300000</td>\n",
       "      <td>5.100000</td>\n",
       "      <td>1.800000</td>\n",
       "    </tr>\n",
       "    <tr>\n",
       "      <th>max</th>\n",
       "      <td>7.900000</td>\n",
       "      <td>4.400000</td>\n",
       "      <td>6.900000</td>\n",
       "      <td>2.500000</td>\n",
       "    </tr>\n",
       "  </tbody>\n",
       "</table>\n",
       "</div>"
      ],
      "text/plain": [
       "               SL          SW          PL          PW\n",
       "count  143.000000  144.000000  144.000000  150.000000\n",
       "mean     5.855944    3.049306    3.756250    1.198667\n",
       "std      0.828168    0.430644    1.761306    0.763161\n",
       "min      4.300000    2.000000    1.000000    0.100000\n",
       "25%      5.100000    2.800000    1.600000    0.300000\n",
       "50%      5.800000    3.000000    4.350000    1.300000\n",
       "75%      6.400000    3.300000    5.100000    1.800000\n",
       "max      7.900000    4.400000    6.900000    2.500000"
      ]
     },
     "execution_count": 6,
     "metadata": {},
     "output_type": "execute_result"
    }
   ],
   "source": [
    "data.describe()"
   ]
  },
  {
   "cell_type": "code",
   "execution_count": 7,
   "id": "fb40a51d",
   "metadata": {},
   "outputs": [
    {
     "data": {
      "text/plain": [
       "SL                7\n",
       "SW                6\n",
       "PL                6\n",
       "PW                0\n",
       "Classification    0\n",
       "dtype: int64"
      ]
     },
     "execution_count": 7,
     "metadata": {},
     "output_type": "execute_result"
    }
   ],
   "source": [
    "data.isna().sum()"
   ]
  },
  {
   "cell_type": "markdown",
   "id": "d086e054",
   "metadata": {},
   "source": [
    "### Fill the missing data values"
   ]
  },
  {
   "cell_type": "code",
   "execution_count": 8,
   "id": "5e51cc1e",
   "metadata": {},
   "outputs": [],
   "source": [
    "data = data.fillna(method='ffill')"
   ]
  },
  {
   "cell_type": "code",
   "execution_count": 9,
   "id": "2c63fc3d",
   "metadata": {},
   "outputs": [
    {
     "data": {
      "text/plain": [
       "SL                0\n",
       "SW                0\n",
       "PL                0\n",
       "PW                0\n",
       "Classification    0\n",
       "dtype: int64"
      ]
     },
     "execution_count": 9,
     "metadata": {},
     "output_type": "execute_result"
    }
   ],
   "source": [
    "data.isna().sum()"
   ]
  },
  {
   "cell_type": "markdown",
   "id": "e70030fb",
   "metadata": {},
   "source": [
    "### Check and remove outliers"
   ]
  },
  {
   "cell_type": "code",
   "execution_count": 10,
   "id": "29ab7a9b",
   "metadata": {},
   "outputs": [
    {
     "data": {
      "image/png": "[encoded data removed]",
      "text/plain": [
       "<Figure size 432x288 with 1 Axes>"
      ]
     },
     "metadata": {
      "needs_background": "light"
     },
     "output_type": "display_data"
    }
   ],
   "source": [
    "plt.boxplot(data['SL'])\n",
    "plt.show()"
   ]
  },
  {
   "cell_type": "markdown",
   "id": "9cca5e7d",
   "metadata": {},
   "source": [
    "There are no outliers in column SL"
   ]
  },
  {
   "cell_type": "code",
   "execution_count": 11,
   "id": "feaa42b6",
   "metadata": {},
   "outputs": [
    {
     "data": {
      "image/png": "[encoded data removed]",
      "text/plain": [
       "<Figure size 432x288 with 1 Axes>"
      ]
     },
     "metadata": {
      "needs_background": "light"
     },
     "output_type": "display_data"
    }
   ],
   "source": [
    "plt.boxplot(data['SW'])\n",
    "plt.show()"
   ]
  },
  {
   "cell_type": "code",
   "execution_count": 12,
   "id": "c56855d7",
   "metadata": {},
   "outputs": [
    {
     "name": "stdout",
     "output_type": "stream",
     "text": [
      "Q1 =  2.8 \n",
      "Q2 =  3.0 \n",
      "Q3 =  3.3\n"
     ]
    }
   ],
   "source": [
    "#calculating percentiles\n",
    "Q1=np.percentile(data['SW'],25,interpolation='midpoint')\n",
    "Q2=np.percentile(data['SW'],50,interpolation='midpoint')\n",
    "Q3=np.percentile(data['SW'],75,interpolation='midpoint')\n",
    "print('Q1 = ',Q1,'\\nQ2 = ',Q2,'\\nQ3 = ',Q3)"
   ]
  },
  {
   "cell_type": "code",
   "execution_count": 13,
   "id": "9bf7aedb",
   "metadata": {},
   "outputs": [
    {
     "name": "stdout",
     "output_type": "stream",
     "text": [
      "IQR =  0.5\n"
     ]
    }
   ],
   "source": [
    "IQR=Q3-Q1\n",
    "print('IQR = ',IQR)"
   ]
  },
  {
   "cell_type": "code",
   "execution_count": 14,
   "id": "95f2df99",
   "metadata": {},
   "outputs": [
    {
     "name": "stdout",
     "output_type": "stream",
     "text": [
      "Upper limit =  4.05 \n",
      "Lower limit =  2.05\n"
     ]
    }
   ],
   "source": [
    "low_lim=Q1-(1.5*IQR)\n",
    "up_lim=Q3+(1.5*IQR)\n",
    "print('Upper limit = ',up_lim,'\\nLower limit = ',low_lim)"
   ]
  },
  {
   "cell_type": "code",
   "execution_count": 15,
   "id": "b8a5615a",
   "metadata": {},
   "outputs": [
    {
     "name": "stdout",
     "output_type": "stream",
     "text": [
      "[4.4, 4.1, 4.2, 2.0]\n"
     ]
    }
   ],
   "source": [
    "outlier=[]\n",
    "for i in data['SW']:\n",
    "    if (i>up_lim or i<low_lim):\n",
    "        outlier.append(i)\n",
    "print(outlier)"
   ]
  },
  {
   "cell_type": "code",
   "execution_count": 16,
   "id": "9c8c7a72",
   "metadata": {},
   "outputs": [],
   "source": [
    "data.drop(data.loc[(data['SW']>up_lim ) | (data['SW']<low_lim)].index,inplace=True)"
   ]
  },
  {
   "cell_type": "code",
   "execution_count": 17,
   "id": "7adae07f",
   "metadata": {},
   "outputs": [
    {
     "data": {
      "image/png": "[encoded data removed]",
      "text/plain": [
       "<Figure size 432x288 with 1 Axes>"
      ]
     },
     "metadata": {
      "needs_background": "light"
     },
     "output_type": "display_data"
    }
   ],
   "source": [
    "plt.boxplot(data['SW'])\n",
    "plt.show()"
   ]
  },
  {
   "cell_type": "code",
   "execution_count": 18,
   "id": "6760c36c",
   "metadata": {},
   "outputs": [
    {
     "data": {
      "image/png": "[encoded data removed]",
      "text/plain": [
       "<Figure size 432x288 with 1 Axes>"
      ]
     },
     "metadata": {
      "needs_background": "light"
     },
     "output_type": "display_data"
    }
   ],
   "source": [
    "plt.boxplot(data['PL'])\n",
    "plt.show()"
   ]
  },
  {
   "cell_type": "markdown",
   "id": "3b20a368",
   "metadata": {},
   "source": [
    "There are no outliers in column PL"
   ]
  },
  {
   "cell_type": "code",
   "execution_count": 19,
   "id": "e67a8265",
   "metadata": {},
   "outputs": [
    {
     "data": {
      "image/png": "[encoded data removed]",
      "text/plain": [
       "<Figure size 432x288 with 1 Axes>"
      ]
     },
     "metadata": {
      "needs_background": "light"
     },
     "output_type": "display_data"
    }
   ],
   "source": [
    "plt.boxplot(data['PW'])\n",
    "plt.show()"
   ]
  },
  {
   "cell_type": "markdown",
   "id": "e73b2406",
   "metadata": {},
   "source": [
    "There are no outliers in column PW"
   ]
  },
  {
   "cell_type": "markdown",
   "id": "0243ee12",
   "metadata": {},
   "source": [
    "### Convert categorical values to numerical values"
   ]
  },
  {
   "cell_type": "code",
   "execution_count": 20,
   "id": "1a47c090",
   "metadata": {},
   "outputs": [],
   "source": [
    "from sklearn.preprocessing import LabelEncoder\n",
    "label_en = LabelEncoder()"
   ]
  },
  {
   "cell_type": "code",
   "execution_count": 21,
   "id": "375c7236",
   "metadata": {},
   "outputs": [],
   "source": [
    "data['Classification'] = label_en.fit_transform(data['Classification'])"
   ]
  },
  {
   "cell_type": "code",
   "execution_count": 22,
   "id": "24342b2f",
   "metadata": {},
   "outputs": [
    {
     "data": {
      "text/html": [
       "<div>\n",
       "<style scoped>\n",
       "    .dataframe tbody tr th:only-of-type {\n",
       "        vertical-align: middle;\n",
       "    }\n",
       "\n",
       "    .dataframe tbody tr th {\n",
       "        vertical-align: top;\n",
       "    }\n",
       "\n",
       "    .dataframe thead th {\n",
       "        text-align: right;\n",
       "    }\n",
       "</style>\n",
       "<table border=\"1\" class=\"dataframe\">\n",
       "  <thead>\n",
       "    <tr style=\"text-align: right;\">\n",
       "      <th></th>\n",
       "      <th>SL</th>\n",
       "      <th>SW</th>\n",
       "      <th>PL</th>\n",
       "      <th>PW</th>\n",
       "      <th>Classification</th>\n",
       "    </tr>\n",
       "  </thead>\n",
       "  <tbody>\n",
       "    <tr>\n",
       "      <th>0</th>\n",
       "      <td>5.1</td>\n",
       "      <td>3.5</td>\n",
       "      <td>1.4</td>\n",
       "      <td>0.2</td>\n",
       "      <td>0</td>\n",
       "    </tr>\n",
       "    <tr>\n",
       "      <th>1</th>\n",
       "      <td>4.9</td>\n",
       "      <td>3.0</td>\n",
       "      <td>1.4</td>\n",
       "      <td>0.2</td>\n",
       "      <td>0</td>\n",
       "    </tr>\n",
       "    <tr>\n",
       "      <th>2</th>\n",
       "      <td>4.9</td>\n",
       "      <td>3.2</td>\n",
       "      <td>1.3</td>\n",
       "      <td>0.2</td>\n",
       "      <td>0</td>\n",
       "    </tr>\n",
       "    <tr>\n",
       "      <th>3</th>\n",
       "      <td>4.6</td>\n",
       "      <td>3.1</td>\n",
       "      <td>1.5</td>\n",
       "      <td>0.2</td>\n",
       "      <td>0</td>\n",
       "    </tr>\n",
       "    <tr>\n",
       "      <th>4</th>\n",
       "      <td>5.0</td>\n",
       "      <td>3.6</td>\n",
       "      <td>1.4</td>\n",
       "      <td>0.2</td>\n",
       "      <td>0</td>\n",
       "    </tr>\n",
       "  </tbody>\n",
       "</table>\n",
       "</div>"
      ],
      "text/plain": [
       "    SL   SW   PL   PW  Classification\n",
       "0  5.1  3.5  1.4  0.2               0\n",
       "1  4.9  3.0  1.4  0.2               0\n",
       "2  4.9  3.2  1.3  0.2               0\n",
       "3  4.6  3.1  1.5  0.2               0\n",
       "4  5.0  3.6  1.4  0.2               0"
      ]
     },
     "execution_count": 22,
     "metadata": {},
     "output_type": "execute_result"
    }
   ],
   "source": [
    "data.head()"
   ]
  },
  {
   "cell_type": "markdown",
   "id": "17385a52",
   "metadata": {},
   "source": [
    "### Split the dataset"
   ]
  },
  {
   "cell_type": "code",
   "execution_count": 23,
   "id": "84ba8cee",
   "metadata": {},
   "outputs": [],
   "source": [
    "x = data.drop(['Classification'],axis=1)\n",
    "y = data['Classification']"
   ]
  },
  {
   "cell_type": "markdown",
   "id": "e1481c25",
   "metadata": {},
   "source": [
    "### Scaling the data"
   ]
  },
  {
   "cell_type": "code",
   "execution_count": 24,
   "id": "b7f64277",
   "metadata": {},
   "outputs": [],
   "source": [
    "from sklearn.preprocessing import StandardScaler\n",
    "stan_scal = StandardScaler()"
   ]
  },
  {
   "cell_type": "code",
   "execution_count": 25,
   "id": "50000acd",
   "metadata": {},
   "outputs": [],
   "source": [
    "x = stan_scal.fit_transform(x)\n",
    "x = pd.DataFrame(x)"
   ]
  },
  {
   "cell_type": "markdown",
   "id": "bdfedc8e",
   "metadata": {},
   "source": [
    "### Splitting data into train and test set"
   ]
  },
  {
   "cell_type": "code",
   "execution_count": 26,
   "id": "af41eecd",
   "metadata": {},
   "outputs": [],
   "source": [
    "from sklearn.model_selection import train_test_split\n",
    "x_train,x_test,y_train,y_test = train_test_split(x,y,test_size=0.2,random_state=42)"
   ]
  },
  {
   "cell_type": "markdown",
   "id": "aa81a0c0",
   "metadata": {},
   "source": [
    "### Logistic Regression "
   ]
  },
  {
   "cell_type": "code",
   "execution_count": 27,
   "id": "659a9882",
   "metadata": {},
   "outputs": [],
   "source": [
    "from sklearn.linear_model import LogisticRegression\n",
    "logit_model = LogisticRegression()\n",
    "logit_model.fit(x_train,y_train)\n",
    "y_pred = logit_model.predict(x_test)"
   ]
  },
  {
   "cell_type": "code",
   "execution_count": 28,
   "id": "d4fc8c61",
   "metadata": {},
   "outputs": [],
   "source": [
    "from sklearn.metrics import confusion_matrix,accuracy_score,precision_score,recall_score,f1_score,classification_report"
   ]
  },
  {
   "cell_type": "code",
   "execution_count": 29,
   "id": "ca0fad6f",
   "metadata": {},
   "outputs": [
    {
     "name": "stdout",
     "output_type": "stream",
     "text": [
      "Accuracy is: 0.9666666666666667\n",
      "Precision is: 0.9666666666666667\n",
      "Recall is: 0.9666666666666667\n",
      "f1 score is: 0.9666666666666667\n"
     ]
    }
   ],
   "source": [
    "print('Accuracy is:',accuracy_score(y_test,y_pred))\n",
    "print('Precision is:',precision_score(y_test,y_pred,average='micro'))\n",
    "print('Recall is:',recall_score(y_test,y_pred,average='micro'))\n",
    "print('f1 score is:',f1_score(y_test,y_pred,average='micro'))"
   ]
  },
  {
   "cell_type": "code",
   "execution_count": 30,
   "id": "67c2cd6c",
   "metadata": {},
   "outputs": [
    {
     "name": "stdout",
     "output_type": "stream",
     "text": [
      "Confusion matrix\n",
      " [[12  0  0]\n",
      " [ 0  7  1]\n",
      " [ 0  0 10]]\n"
     ]
    }
   ],
   "source": [
    "print('Confusion matrix\\n',confusion_matrix(y_test,y_pred))"
   ]
  },
  {
   "cell_type": "markdown",
   "id": "0f0aee19",
   "metadata": {},
   "source": [
    "### KNN Model"
   ]
  },
  {
   "cell_type": "code",
   "execution_count": 31,
   "id": "5b9a42f4",
   "metadata": {},
   "outputs": [],
   "source": [
    "from sklearn.neighbors import KNeighborsClassifier\n",
    "acc_values =[]\n",
    "neighbors = np.arange(3,15)\n",
    "for k in neighbors:\n",
    "    classifier = KNeighborsClassifier(n_neighbors=k,metric='minkowski')\n",
    "    classifier.fit(x_train,y_train)\n",
    "    y_pred = classifier.predict(x_test)\n",
    "    acc = accuracy_score(y_test,y_pred)\n",
    "    acc_values.append(acc)"
   ]
  },
  {
   "cell_type": "code",
   "execution_count": 32,
   "id": "249ddd0b",
   "metadata": {},
   "outputs": [
    {
     "data": {
      "image/png": "[encoded data removed]",
      "text/plain": [
       "<Figure size 432x288 with 1 Axes>"
      ]
     },
     "metadata": {
      "needs_background": "light"
     },
     "output_type": "display_data"
    }
   ],
   "source": [
    "plt.plot(neighbors,acc_values,'o-')\n",
    "plt.xlabel('k value')\n",
    "plt.ylabel('acccuracy')\n",
    "plt.show()"
   ]
  },
  {
   "cell_type": "code",
   "execution_count": 33,
   "id": "5cfa7b9c",
   "metadata": {},
   "outputs": [],
   "source": [
    "classifier = KNeighborsClassifier(n_neighbors=5,metric='minkowski')\n",
    "classifier.fit(x_train,y_train)\n",
    "y_pred = classifier.predict(x_test)"
   ]
  },
  {
   "cell_type": "code",
   "execution_count": 34,
   "id": "8f3b2d27",
   "metadata": {},
   "outputs": [
    {
     "name": "stdout",
     "output_type": "stream",
     "text": [
      "Accuracy is: 0.9333333333333333\n",
      "Precision is: 0.9333333333333333\n",
      "Recall is: 0.9333333333333333\n",
      "f1 score is: 0.9333333333333333\n"
     ]
    }
   ],
   "source": [
    "print('Accuracy is:',accuracy_score(y_test,y_pred))\n",
    "print('Precision is:',precision_score(y_test,y_pred,average='micro'))\n",
    "print('Recall is:',recall_score(y_test,y_pred,average='micro'))\n",
    "print('f1 score is:',f1_score(y_test,y_pred,average='micro'))"
   ]
  },
  {
   "cell_type": "markdown",
   "id": "b77348c6",
   "metadata": {},
   "source": [
    "### Support vector machines"
   ]
  },
  {
   "cell_type": "code",
   "execution_count": 35,
   "id": "2a21ccca",
   "metadata": {},
   "outputs": [],
   "source": [
    "from sklearn.svm import SVC\n",
    "svm_linear = SVC(kernel='linear')\n",
    "svm_linear.fit(x_train,y_train)\n",
    "y_pred = svm_linear.predict(x_test)"
   ]
  },
  {
   "cell_type": "code",
   "execution_count": 36,
   "id": "d8710f30",
   "metadata": {},
   "outputs": [
    {
     "name": "stdout",
     "output_type": "stream",
     "text": [
      "Accuracy is: 0.9666666666666667\n",
      "Precision is: 0.9666666666666667\n",
      "Recall is: 0.9666666666666667\n",
      "f1 score is: 0.9666666666666667\n"
     ]
    }
   ],
   "source": [
    "print('Accuracy is:',accuracy_score(y_test,y_pred))\n",
    "print('Precision is:',precision_score(y_test,y_pred,average='micro'))\n",
    "print('Recall is:',recall_score(y_test,y_pred,average='micro'))\n",
    "print('f1 score is:',f1_score(y_test,y_pred,average='micro'))"
   ]
  },
  {
   "cell_type": "markdown",
   "id": "942c3826",
   "metadata": {},
   "source": [
    "### Random forest classifier"
   ]
  },
  {
   "cell_type": "code",
   "execution_count": 39,
   "id": "fa9945a9",
   "metadata": {},
   "outputs": [],
   "source": [
    "from sklearn.ensemble import RandomForestClassifier\n",
    "rf = RandomForestClassifier()\n",
    "rf.fit(x_train,y_train)\n",
    "y_pred = rf.predict(x_test)"
   ]
  },
  {
   "cell_type": "code",
   "execution_count": 40,
   "id": "459800f0",
   "metadata": {},
   "outputs": [
    {
     "name": "stdout",
     "output_type": "stream",
     "text": [
      "Accuracy is: 0.9333333333333333\n",
      "Precision is: 0.9333333333333333\n",
      "Recall is: 0.9333333333333333\n",
      "f1 score is: 0.9333333333333333\n"
     ]
    }
   ],
   "source": [
    "print('Accuracy is:',accuracy_score(y_test,y_pred))\n",
    "print('Precision is:',precision_score(y_test,y_pred,average='micro'))\n",
    "print('Recall is:',recall_score(y_test,y_pred,average='micro'))\n",
    "print('f1 score is:',f1_score(y_test,y_pred,average='micro'))"
   ]
  },
  {
   "cell_type": "markdown",
   "id": "80ceb355",
   "metadata": {},
   "source": [
    "Logistic regression model and SVM gives the best result to predict iris species"
   ]
  },
  {
   "cell_type": "code",
   "execution_count": null,
   "id": "5342e80a",
   "metadata": {},
   "outputs": [],
   "source": []
  }
 ],
 "metadata": {
  "kernelspec": {
   "display_name": "Python 3 (ipykernel)",
   "language": "python",
   "name": "python3"
  },
  "language_info": {
   "codemirror_mode": {
    "name": "ipython",
    "version": 3
   },
   "file_extension": ".py",
   "mimetype": "text/x-python",
   "name": "python",
   "nbconvert_exporter": "python",
   "pygments_lexer": "ipython3",
   "version": "3.9.7"
  }
 },
 "nbformat": 4,
 "nbformat_minor": 5
}
